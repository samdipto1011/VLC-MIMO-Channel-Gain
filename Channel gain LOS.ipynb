{
 "cells": [
  {
   "cell_type": "code",
   "execution_count": 1,
   "id": "09238f4f",
   "metadata": {},
   "outputs": [],
   "source": [
    "import numpy as np\n",
    "import pandas as pd\n",
    "import matplotlib.pyplot as plt"
   ]
  },
  {
   "cell_type": "markdown",
   "id": "e993a39e",
   "metadata": {},
   "source": [
    "### Input Parameters\n",
    "\n",
    "#### LED parameters"
   ]
  },
  {
   "cell_type": "code",
   "execution_count": 2,
   "id": "436fa316",
   "metadata": {},
   "outputs": [],
   "source": [
    "led_half_angle=30;\n",
    "p_led=6;"
   ]
  },
  {
   "cell_type": "markdown",
   "id": "7167e952",
   "metadata": {},
   "source": [
    "#### Signal parameters"
   ]
  },
  {
   "cell_type": "code",
   "execution_count": 3,
   "id": "4ab8ffb0",
   "metadata": {},
   "outputs": [],
   "source": [
    "sig_length=1000;\n",
    "nsamp=10;\n",
    "# bit_rate_vect=0.5:0.5:5; # Mbps\n",
    "bit_rate_index=1;\n",
    "# constellation_vect=[-0.5 0.5]; #OOK NRZ\n",
    "# Receiver\n",
    "PD_area=1;\n",
    "Responsivity=0.2;"
   ]
  },
  {
   "cell_type": "markdown",
   "id": "2e6defa6",
   "metadata": {},
   "source": [
    "#### Room dimension"
   ]
  },
  {
   "cell_type": "code",
   "execution_count": 4,
   "id": "b77b6395",
   "metadata": {},
   "outputs": [],
   "source": [
    "\n",
    "room_x=6;\n",
    "room_y=6;\n",
    "c2f=2;\n",
    "\n",
    "n=1.5"
   ]
  },
  {
   "cell_type": "markdown",
   "id": "c24cde72",
   "metadata": {},
   "source": [
    "#### Bits and errors tested\n"
   ]
  },
  {
   "cell_type": "code",
   "execution_count": 5,
   "id": "cd9b292a",
   "metadata": {},
   "outputs": [],
   "source": [
    "bits_to_test=1e7;\n",
    "max_error=30;\n"
   ]
  },
  {
   "cell_type": "code",
   "execution_count": 324,
   "id": "ac3c5edc",
   "metadata": {},
   "outputs": [],
   "source": [
    "n_Hmat=100 # number of samples"
   ]
  },
  {
   "cell_type": "code",
   "execution_count": 316,
   "id": "fa8c45d8",
   "metadata": {},
   "outputs": [],
   "source": [
    "# def generate_tx_rx(u, v=2.75, x=0.5, y=0.5, n_tx_x= 2, n_tx_y= 2, n_rx_x= 2, n_rx_y= 2):\n",
    "def generate_tx_rx(u, v=2.75, x=1.5, y=1.5, n_tx=10, n_rx=10):\n",
    "    \n",
    "    '''\n",
    "        (u,v)\n",
    "        \n",
    "    '''\n",
    "    n_tx_x= n_tx\n",
    "    n_tx_y= n_tx\n",
    "    n_rx_x= n_rx\n",
    "    n_rx_y= n_rx\n",
    "\n",
    "    tx=np.zeros((n_tx_x,n_tx_y,2));\n",
    "\n",
    "\n",
    "\n",
    "    rx=np.zeros((n_rx_x,n_rx_y,2));\n",
    "\n",
    "    for i in range(n_tx_x):\n",
    "        for j in range(n_tx_y):\n",
    "            tx[i,j]=[x+i*0.25, y+j*0.25]\n",
    "\n",
    "\n",
    "\n",
    "    for i in range (n_rx_x):\n",
    "        for j in range (n_rx_y):\n",
    "            rx[i,j]=[u, v+j*0.05]\n",
    "    return tx.reshape(-1,2), rx.reshape(-1,2)\n",
    "\n",
    "\n",
    "\n",
    "def distance_and_angle(tx, rx, c2f=c2f):\n",
    "    d=np.zeros((len(tx),len(rx)))\n",
    "    a=np.zeros((len(tx),len(rx)))\n",
    "    c=0\n",
    "    for i,tx_i in enumerate(tx):\n",
    "        for j, rx_j in enumerate(rx):\n",
    "            d[i,j]=np.sqrt(sum((tx_i-rx_j)**2)+c2f**2)\n",
    "            a[i,j]=np.arctan(np.sqrt(sum((tx_i-rx_j)**2))/c2f)\n",
    "            \n",
    "            c=c+1\n",
    "            \n",
    "    return d, a"
   ]
  },
  {
   "cell_type": "markdown",
   "id": "643fd191",
   "metadata": {},
   "source": [
    "\n",
    "##### Lambertian parameter:\n",
    "\n",
    "$m=\\frac{-\\ln{2}}{\\log{(\\cos{\\phi_{1/2}})}}$\n",
    "\n",
    "##### Here, $\\phi_{1/2}$ is half power angle"
   ]
  },
  {
   "cell_type": "code",
   "execution_count": 304,
   "id": "244b0395",
   "metadata": {},
   "outputs": [
    {
     "data": {
      "text/plain": [
       "4.81884167930642"
      ]
     },
     "execution_count": 304,
     "metadata": {},
     "output_type": "execute_result"
    }
   ],
   "source": [
    "lamb_order=-np.log(2)/np.log(np.cos(np.deg2rad(led_half_angle)))\n",
    "lamb_order"
   ]
  },
  {
   "cell_type": "markdown",
   "id": "0cba8df9",
   "metadata": {},
   "source": [
    "$g(\\psi) = \\begin{cases} \n",
    "\\frac{n^2}{\\sin^2 \\Psi_{\\text{con}}}, & 0 \\leq \\Psi \\leq \\Psi_{\\text{con}} \\\\\n",
    "0, & 0 \\geq \\Psi \n",
    "\\end{cases}$\n",
    "\n",
    "##### $g(\\psi)$ is optical gain and $\\psi$ is the FOV\n",
    "\n",
    "$\n",
    "H_{\\text{LoS}} = \n",
    "\\begin{cases} \n",
    "\\frac{(m + 1)}{2\\pi d^2} \\cos^m(\\psi)g(\\psi)\\cos(\\psi), & 0 \\leq \\psi \\leq \\psi_{\\text{FoV}} \\\\\n",
    "0, & \\text{otherwise}\n",
    "\\end{cases}\n",
    "$"
   ]
  },
  {
   "cell_type": "code",
   "execution_count": 326,
   "id": "9a722657",
   "metadata": {},
   "outputs": [],
   "source": [
    "Hmat_all=np.zeros((n_Hmat,len(tx),len(rx)))\n",
    "\n",
    "for i in range(n_Hmat):\n",
    "    tx, rx=generate_tx_rx(u=np.random.uniform(0.0, 6.0))\n",
    "    d, a=distance_and_angle(tx, rx)\n",
    "\n",
    "    \n",
    "    oc_gain = n**2 * PD_area / (np.matmul(np.sin(a),np.sin(a)))\n",
    "\n",
    "    Hmat=((lamb_order+1)*(np.cos(a)**lamb_order)*np.cos(a)*oc_gain*p_led)/(2*np.pi*d**2)\n",
    "    \n",
    "    Hmat_all[i,:,:]=Hmat\n",
    "    "
   ]
  },
  {
   "cell_type": "code",
   "execution_count": 358,
   "id": "261ed43c",
   "metadata": {},
   "outputs": [
    {
     "data": {
      "text/plain": [
       "(-0.5, 99.5, 99.5, -0.5)"
      ]
     },
     "execution_count": 358,
     "metadata": {},
     "output_type": "execute_result"
    },
    {
     "data": {
      "image/png": "[encoded data removed]",
      "text/plain": [
       "<Figure size 1000x1000 with 3 Axes>"
      ]
     },
     "metadata": {},
     "output_type": "display_data"
    }
   ],
   "source": [
    "plt.figure(figsize=(10,10))\n",
    "plt.subplot(131)\n",
    "plt.imshow(Hmat_all[np.random.randint(0,n_Hmat)],cmap=\"gray\")\n",
    "plt.axis(\"off\")\n",
    "\n",
    "plt.subplot(132)\n",
    "plt.imshow(Hmat_all[np.random.randint(0,n_Hmat)],cmap=\"gray\")\n",
    "plt.axis(\"off\")\n",
    "\n",
    "plt.subplot(133)\n",
    "plt.imshow(Hmat_all[np.random.randint(0,n_Hmat)],cmap=\"gray\");\n",
    "plt.axis(\"off\")\n"
   ]
  },
  {
   "cell_type": "code",
   "execution_count": null,
   "id": "0dc8358e",
   "metadata": {},
   "outputs": [],
   "source": []
  }
 ],
 "metadata": {
  "kernelspec": {
   "display_name": "Python 3 (ipykernel)",
   "language": "python",
   "name": "python3"
  },
  "language_info": {
   "codemirror_mode": {
    "name": "ipython",
    "version": 3
   },
   "file_extension": ".py",
   "mimetype": "text/x-python",
   "name": "python",
   "nbconvert_exporter": "python",
   "pygments_lexer": "ipython3",
   "version": "3.7.15"
  }
 },
 "nbformat": 4,
 "nbformat_minor": 5
}
